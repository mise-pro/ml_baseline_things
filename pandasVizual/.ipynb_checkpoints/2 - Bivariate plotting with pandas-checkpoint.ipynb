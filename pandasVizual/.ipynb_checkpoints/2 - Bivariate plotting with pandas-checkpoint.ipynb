{
 "cells": [
  {
   "cell_type": "markdown",
   "metadata": {
    "_cell_guid": "f14a6c39-a6a6-45a6-a6db-c2a95e4d9a40",
    "_uuid": "37d0200e9bded9a4e9f7546a13f0c4ab35cb116e"
   },
   "source": [
    "# Bivariate plotting with pandas\n",
    "\n",
    "<table>\n",
    "<tr>\n",
    "<td><img src=\"https://i.imgur.com/bBj1G1v.png\" width=\"350px\"/></td>\n",
    "<td><img src=\"https://i.imgur.com/ChK9zR3.png\" width=\"350px\"/></td>\n",
    "<td><img src=\"https://i.imgur.com/KBloVHe.png\" width=\"350px\"/></td>\n",
    "<td><img src=\"https://i.imgur.com/C7kEWq7.png\" width=\"350px\"/></td>\n",
    "</tr>\n",
    "<tr>\n",
    "<td style=\"font-weight:bold; font-size:16px;\">Scatter Plot</td>\n",
    "<td style=\"font-weight:bold; font-size:16px;\">Hex Plot</td>\n",
    "<td style=\"font-weight:bold; font-size:16px;\">Stacked Bar Chart</td>\n",
    "<td style=\"font-weight:bold; font-size:16px;\">Bivariate Line Chart</td>\n",
    "</tr>\n",
    "<tr>\n",
    "<td>df.plot.scatter()</td>\n",
    "<td>df.plot.hexbin()</td>\n",
    "<td>df.plot.bar(stacked=True)</td>\n",
    "<td>df.plot.line()</td>\n",
    "</tr>\n",
    "<tr>\n",
    "<td>Good for interval and some nominal categorical data.</td>\n",
    "<td>Good for interval and some nominal categorical data.</td>\n",
    "<td>Good for nominal and ordinal categorical data.</td>\n",
    "<td>Good for ordinal categorical and interval data.</td>\n",
    "</tr>\n",
    "</table>\n",
    "\n",
    "----\n",
    "\n",
    "\n",
    "In the previous notebook, we explored using `pandas` to plot and understand relationships within a single column. In this notebook, we'll expand this view by looking at plots that consider two variables at a time.\n",
    "\n",
    "Data without relationships between variables is the data science equivalent of a blank canvas. To paint the picture in, we need to understand how variables interact with one another. Does an increase in one variable correlate with an increase in another? Does it relate to a decrease somewhere else? The best way to paint the picture in is by using plots that enable these possibilities."
   ]
  },
  {
   "cell_type": "code",
   "execution_count": 4,
   "metadata": {
    "ExecuteTime": {
     "end_time": "2018-10-16T10:54:51.152517Z",
     "start_time": "2018-10-16T10:54:49.978739Z"
    },
    "_cell_guid": "09b3d35a-a0a3-400b-ba07-6e63d31c57a5",
    "_uuid": "3aed82c633067c88ccab2fd99f403211c019aec2"
   },
   "outputs": [
    {
     "data": {
      "text/html": [
       "<div>\n",
       "<style scoped>\n",
       "    .dataframe tbody tr th:only-of-type {\n",
       "        vertical-align: middle;\n",
       "    }\n",
       "\n",
       "    .dataframe tbody tr th {\n",
       "        vertical-align: top;\n",
       "    }\n",
       "\n",
       "    .dataframe thead th {\n",
       "        text-align: right;\n",
       "    }\n",
       "</style>\n",
       "<table border=\"1\" class=\"dataframe\">\n",
       "  <thead>\n",
       "    <tr style=\"text-align: right;\">\n",
       "      <th></th>\n",
       "      <th>country</th>\n",
       "      <th>description</th>\n",
       "      <th>designation</th>\n",
       "      <th>points</th>\n",
       "      <th>price</th>\n",
       "      <th>province</th>\n",
       "      <th>region_1</th>\n",
       "      <th>region_2</th>\n",
       "      <th>variety</th>\n",
       "      <th>winery</th>\n",
       "    </tr>\n",
       "  </thead>\n",
       "  <tbody>\n",
       "    <tr>\n",
       "      <th>0</th>\n",
       "      <td>US</td>\n",
       "      <td>This tremendous 100% varietal wine hails from ...</td>\n",
       "      <td>Martha's Vineyard</td>\n",
       "      <td>96</td>\n",
       "      <td>235.0</td>\n",
       "      <td>California</td>\n",
       "      <td>Napa Valley</td>\n",
       "      <td>Napa</td>\n",
       "      <td>Cabernet Sauvignon</td>\n",
       "      <td>Heitz</td>\n",
       "    </tr>\n",
       "    <tr>\n",
       "      <th>1</th>\n",
       "      <td>Spain</td>\n",
       "      <td>Ripe aromas of fig, blackberry and cassis are ...</td>\n",
       "      <td>Carodorum Selección Especial Reserva</td>\n",
       "      <td>96</td>\n",
       "      <td>110.0</td>\n",
       "      <td>Northern Spain</td>\n",
       "      <td>Toro</td>\n",
       "      <td>NaN</td>\n",
       "      <td>Tinta de Toro</td>\n",
       "      <td>Bodega Carmen Rodríguez</td>\n",
       "    </tr>\n",
       "    <tr>\n",
       "      <th>2</th>\n",
       "      <td>US</td>\n",
       "      <td>Mac Watson honors the memory of a wine once ma...</td>\n",
       "      <td>Special Selected Late Harvest</td>\n",
       "      <td>96</td>\n",
       "      <td>90.0</td>\n",
       "      <td>California</td>\n",
       "      <td>Knights Valley</td>\n",
       "      <td>Sonoma</td>\n",
       "      <td>Sauvignon Blanc</td>\n",
       "      <td>Macauley</td>\n",
       "    </tr>\n",
       "    <tr>\n",
       "      <th>3</th>\n",
       "      <td>US</td>\n",
       "      <td>This spent 20 months in 30% new French oak, an...</td>\n",
       "      <td>Reserve</td>\n",
       "      <td>96</td>\n",
       "      <td>65.0</td>\n",
       "      <td>Oregon</td>\n",
       "      <td>Willamette Valley</td>\n",
       "      <td>Willamette Valley</td>\n",
       "      <td>Pinot Noir</td>\n",
       "      <td>Ponzi</td>\n",
       "    </tr>\n",
       "    <tr>\n",
       "      <th>4</th>\n",
       "      <td>France</td>\n",
       "      <td>This is the top wine from La Bégude, named aft...</td>\n",
       "      <td>La Brûlade</td>\n",
       "      <td>95</td>\n",
       "      <td>66.0</td>\n",
       "      <td>Provence</td>\n",
       "      <td>Bandol</td>\n",
       "      <td>NaN</td>\n",
       "      <td>Provence red blend</td>\n",
       "      <td>Domaine de la Bégude</td>\n",
       "    </tr>\n",
       "  </tbody>\n",
       "</table>\n",
       "</div>"
      ],
      "text/plain": [
       "  country                                        description  \\\n",
       "0      US  This tremendous 100% varietal wine hails from ...   \n",
       "1   Spain  Ripe aromas of fig, blackberry and cassis are ...   \n",
       "2      US  Mac Watson honors the memory of a wine once ma...   \n",
       "3      US  This spent 20 months in 30% new French oak, an...   \n",
       "4  France  This is the top wine from La Bégude, named aft...   \n",
       "\n",
       "                            designation  points  price        province  \\\n",
       "0                     Martha's Vineyard      96  235.0      California   \n",
       "1  Carodorum Selección Especial Reserva      96  110.0  Northern Spain   \n",
       "2         Special Selected Late Harvest      96   90.0      California   \n",
       "3                               Reserve      96   65.0          Oregon   \n",
       "4                            La Brûlade      95   66.0        Provence   \n",
       "\n",
       "            region_1           region_2             variety  \\\n",
       "0        Napa Valley               Napa  Cabernet Sauvignon   \n",
       "1               Toro                NaN       Tinta de Toro   \n",
       "2     Knights Valley             Sonoma     Sauvignon Blanc   \n",
       "3  Willamette Valley  Willamette Valley          Pinot Noir   \n",
       "4             Bandol                NaN  Provence red blend   \n",
       "\n",
       "                    winery  \n",
       "0                    Heitz  \n",
       "1  Bodega Carmen Rodríguez  \n",
       "2                 Macauley  \n",
       "3                    Ponzi  \n",
       "4     Domaine de la Bégude  "
      ]
     },
     "execution_count": 4,
     "metadata": {},
     "output_type": "execute_result"
    }
   ],
   "source": [
    "import pandas as pd\n",
    "%matplotlib inline\n",
    "reviews = pd.read_csv(\"winemag-data_first150k.csv\", index_col=0)\n",
    "reviews.head()"
   ]
  },
  {
   "cell_type": "markdown",
   "metadata": {
    "_cell_guid": "73e25c94-3e15-483e-8104-78ca461b11eb",
    "_uuid": "0e1d38092973a1cddd7deed2f0a8d62acf7eafb4"
   },
   "source": [
    "## Scatter plot\n",
    "\n",
    "The simplest bivariate plot is the lowly **scatter plot**. A simple scatter plot simply maps each variable of interest to a point in two-dimensional space. This is the result:"
   ]
  },
  {
   "cell_type": "code",
   "execution_count": 5,
   "metadata": {
    "ExecuteTime": {
     "end_time": "2018-10-16T10:54:53.173327Z",
     "start_time": "2018-10-16T10:54:52.969192Z"
    },
    "_cell_guid": "4265c95d-5d23-4e9d-96c9-99a23dbbf6b2",
    "_uuid": "2af420e85bbbe6c53c990478a415e269a762ce74"
   },
   "outputs": [
    {
     "data": {
      "text/plain": [
       "<matplotlib.axes._subplots.AxesSubplot at 0xb3ae96a2b0>"
      ]
     },
     "execution_count": 5,
     "metadata": {},
     "output_type": "execute_result"
    },
    {
     "data": {
      "image/png": "[encoded data removed]",
      "text/plain": [
       "<matplotlib.figure.Figure at 0xb3ae954cf8>"
      ]
     },
     "metadata": {},
     "output_type": "display_data"
    }
   ],
   "source": [
    "reviews[reviews['price'] < 100].sample(100).plot.scatter(x='price', y='points')"
   ]
  },
  {
   "cell_type": "markdown",
   "metadata": {
    "_cell_guid": "a2c42f84-3720-4cfd-ae13-0c8e9bb26b02",
    "_uuid": "424ed88967885b75428f6d5e6af7c5efd60447c0"
   },
   "source": [
    "This plot shows us that price and points are weakly correlated: that is, that more expensive wines do generally earn more points when reviewed.\n",
    "\n",
    "Note that in order to make effective use of this plot, we had to **downsample** our data, taking just 100 points from the full set. This is because naive scatter plots do not effectively treat points which map to the same place. For example, if two wines, both costing 100 dollars, get a rating of 90, then the second one is overplotted onto the first one, and we add just one point to the plot.\n",
    "\n",
    "This isn't a problem if it happens just a few times. But with enough points the distribution starts to look like a shapeless blob, and you lose the forest for the trees:"
   ]
  },
  {
   "cell_type": "code",
   "execution_count": null,
   "metadata": {
    "_cell_guid": "d0ba3d4c-3d5d-4e26-8635-02490690b5fa",
    "_uuid": "2aaa5810e1066c5a7767003014e34da78e845945"
   },
   "outputs": [],
   "source": [
    "reviews[reviews['price'] < 100].plot.scatter(x='price', y='points')"
   ]
  },
  {
   "cell_type": "markdown",
   "metadata": {
    "_cell_guid": "2ce7a9bb-2c2c-43f9-a92f-9671a9e72b07",
    "_uuid": "9e853fc686a49318704cdb6ff9d8c2b977ece321"
   },
   "source": [
    "Because of their weakness to overplotting, scatter plots work best with relatively small datasets, and with variables which have a large number of unique values.\n",
    "\n",
    "There are a few ways to deal with overplotting. We've already demonstrated one way: sampling the points. Another interesting way to do this that's built right into `pandas` is to use our next plot type, a hexplot."
   ]
  },
  {
   "cell_type": "markdown",
   "metadata": {
    "_cell_guid": "2a04f27a-267c-4ed6-8dec-4a768c7e085e",
    "_uuid": "fe3643a0454a3f21eb4275530f9fe2e38ae8ed4a"
   },
   "source": [
    "## Hexplot\n",
    "\n",
    "A  **hex plot** aggregates points in space into hexagons, and then colors those hexagons based on the values within them:"
   ]
  },
  {
   "cell_type": "code",
   "execution_count": null,
   "metadata": {
    "_cell_guid": "8b6c247a-517f-42cd-9c3e-50c85d84356f",
    "_uuid": "d42c2e53d1c27bf3165067e0bab596dc3eb84614"
   },
   "outputs": [],
   "source": [
    "reviews[reviews['price'] < 100].plot.hexbin(x='price', y='points', gridsize=15)"
   ]
  },
  {
   "cell_type": "markdown",
   "metadata": {
    "_cell_guid": "9edaadda-3537-48f7-9e7c-cba259a11bc0",
    "_uuid": "f9f3f0acdf7fdfc426d25489afae9a5dcb1a5014"
   },
   "source": [
    "(note: the x-axis is `points`, but is missing from the chart due to a bug)\n",
    "\n",
    "The data in this plot is directly comparable with that in the scatter plot from earlier, but the story it tells us is very different. From this hexplot we can see that the bottles of wine reviewed by Wine Magazine cluster around 87.5 points and around $20.\n",
    "\n",
    "We did not see this effect by looking at the scatter plot, because too many similarly-priced, similarly-scoring wines were overplotted. By doing away with this problem, this hexplot presents us a much more useful view of the dataset.\n",
    "\n",
    "Hexplots and scatter plots can by applied to combinations of interval variables and/or ordinal categorical variables."
   ]
  },
  {
   "cell_type": "markdown",
   "metadata": {
    "_cell_guid": "c6c7c234-fcdc-4164-99ee-fcc505699a58",
    "_uuid": "dd5ce3eca8388bfec03b200981c9c1a162c0d60e"
   },
   "source": [
    "## Stacked plots\n",
    "\n",
    "Scatter plots and hex plots are new. But we can also use the simpler plots we saw in the last notebook.\n",
    "\n",
    "The easiest way to modify them to support another visual variable is by using stacking. A stacked chart is one which plots the variables one on top of the other.\n",
    "\n",
    "We'll use a supplemental selection of the five most common wines for this next section."
   ]
  },
  {
   "cell_type": "code",
   "execution_count": null,
   "metadata": {
    "_cell_guid": "7ac873e1-acf7-4ca6-9d5c-fc153c3a5f67",
    "_uuid": "25e5f61f206936edf8256325b840b0e1db603f7c"
   },
   "outputs": [],
   "source": [
    "wine_counts = pd.read_csv(\"../input/most-common-wine-scores/top-five-wine-score-counts.csv\",\n",
    "                          index_col=0)"
   ]
  },
  {
   "cell_type": "markdown",
   "metadata": {
    "_cell_guid": "1708ba11-2d36-4bc5-b1a0-5d0df451e71a",
    "_uuid": "01491b0974ae78679f81d46810c80946a9030ae6"
   },
   "source": [
    "`wine_counts` counts the number of times each of the possible review scores was received by the five most commonly reviewed types of wines:"
   ]
  },
  {
   "cell_type": "code",
   "execution_count": null,
   "metadata": {
    "_cell_guid": "fe331c41-b9db-4f32-8d9b-85ac8c2a4874",
    "_uuid": "ac42b2097981f02252154e5a605b2f3949e26c31"
   },
   "outputs": [],
   "source": [
    "wine_counts.head()"
   ]
  },
  {
   "cell_type": "markdown",
   "metadata": {
    "_cell_guid": "3660ff18-9a24-4bb2-bb52-45fbf1f5b44b",
    "_uuid": "e7387d16c3c8034693ef35a0bedbb409b82c9eef"
   },
   "source": [
    "Many `pandas` multivariate plots expect input data to be in this format, with one categorical variable in the columns, one categorical variable in the rows, and counts of their intersections in the entries. \n",
    "\n",
    "Let's now look at some stacked plots. We'll start with the stacked bar chart."
   ]
  },
  {
   "cell_type": "code",
   "execution_count": null,
   "metadata": {
    "_cell_guid": "ea937860-2007-462e-9256-ad04565cd92e",
    "_uuid": "62e32c42570d07e74330147e8e15153c558a2b37"
   },
   "outputs": [],
   "source": [
    "wine_counts.plot.bar(stacked=True)"
   ]
  },
  {
   "cell_type": "markdown",
   "metadata": {
    "_cell_guid": "5e809373-b709-4b95-b655-bb02237a1063",
    "_uuid": "ced800e5c23e0bcbc681f6e262c77c9e9a995fa7"
   },
   "source": [
    "Stacked bar plots share the strengths and weaknesses of univariate bar charts. They work best for nominal categorical or small ordinal categorical variables.\n",
    "\n",
    "Another simple example is the area plot, which lends itself very naturally to this form of manipulation:"
   ]
  },
  {
   "cell_type": "code",
   "execution_count": null,
   "metadata": {
    "_cell_guid": "3cd35cef-6fd0-490b-848c-dd602d83f7c8",
    "_uuid": "58648a443b94b1330070dbe11447fa1c1c0f8740"
   },
   "outputs": [],
   "source": [
    "wine_counts.plot.area()"
   ]
  },
  {
   "cell_type": "markdown",
   "metadata": {
    "_cell_guid": "44b7ee06-5428-439e-9829-bb893e9e28e8",
    "_uuid": "4674d0194edbc4f2e70866f55da2645025101a23"
   },
   "source": [
    "Like single-variable area charts, multivariate area charts are meant for nominal categorical or interval variables.\n",
    "\n",
    "Stacked plots are visually very pretty. However, they have two major limitations.\n",
    "\n",
    "The first limitation is that the second variable in a stacked plot must be a variable with a very limited number of possible values (probably an ordinal categorical, as here). Five different types of wine is a good number because it keeps the result interpretable; eight is sometimes mentioned as a suggested upper bound. Many dataset fields will not fit this critereon naturally, so you have to \"make do\", as here, by selecting a group of interest.\n",
    "\n",
    "The second limitation is one of interpretability. As easy as they are to make, and as pretty as they look, stacked plots make it really hard to distinguish concrete values. For example, looking at the plots above, can you tell which wine got a score of 87 more often: Red Blends (in purple), Pinot Noir (in red), or Chardonnay (in green)? It's actually really hard to tell!"
   ]
  },
  {
   "cell_type": "markdown",
   "metadata": {
    "_cell_guid": "bbc7dfdb-4090-47d7-85c0-4acccfc672f5",
    "_uuid": "c17ecb009cd51ef2e671ae9580abd5b6da12166f"
   },
   "source": [
    "## Bivariate line chart\n",
    "\n",
    "One plot type we've seen already that remains highly effective when made bivariate is the line chart. Because the line in this chart takes up so little visual space, it's really easy and effective to overplot multiple lines on the same chart."
   ]
  },
  {
   "cell_type": "code",
   "execution_count": null,
   "metadata": {
    "_cell_guid": "742c43c9-885c-4969-9c23-a5a63d940af9",
    "_uuid": "f3b3138890544d6654a5e27c5483bdb1a4470980"
   },
   "outputs": [],
   "source": [
    "wine_counts.plot.line()"
   ]
  },
  {
   "cell_type": "markdown",
   "metadata": {
    "_cell_guid": "9b9c3c34-de96-4d2a-a1ce-ecbce18e8d69",
    "_uuid": "f7ffee305a0cbdb41a16d4ab05e02f81fa89e7b1"
   },
   "source": [
    "Using a line chart this way makes inroads against the second limitation of stacked plotting: interpretability. Bivariate line charts are much more interpretable because the lines themselves don't take up much space. Their values remain readable when we place multiple lines side-by-side, as here.  \n",
    "\n",
    "For example, in this chart we can easily answer our question from the previous example: which wine most commonly scores an 87. We can see here that the Chardonnay, in green, narrowly beats out the Pinot Noir, in red."
   ]
  },
  {
   "cell_type": "markdown",
   "metadata": {
    "_cell_guid": "b82632f4-5a21-43e7-9df7-2757e4dcfe0b",
    "_uuid": "9d066077eade3df7e43eeb980381a5e14f42a974"
   },
   "source": [
    "----\n",
    "\n",
    "## Exercises\n",
    "\n",
    "In this section of the tutorial we introduced and explored some common bivariate plot types:\n",
    "\n",
    "* Scatter plots\n",
    "* Hex plots\n",
    "* Stacked bar charts and area charts\n",
    "* Bivariate line charts\n",
    "\n",
    "Let's now put what we've learned to the test!\n",
    "\n",
    "To start off, try answering the following questions:\n",
    "\n",
    "1. A scatter plot or hex plot is good for what two types of data?\n",
    "2. What type of data makes sense to show in a stacked bar chart, but not in a bivariate line chart?\n",
    "3. What type of data makes sense to show in a bivariate line chart, but not in a stacked bar chart?\n",
    "4. Suppose we create a scatter plot but find that due to the large number of points it's hard to interpret. What are two things we can do to fix this issue?\n",
    "\n",
    "To see the answers, click the \"Output\" button on the cell below."
   ]
  },
  {
   "cell_type": "code",
   "execution_count": null,
   "metadata": {
    "_cell_guid": "88c2e00f-1595-40f6-8099-e4c860b6ea03",
    "_kg_hide-input": true,
    "_kg_hide-output": true,
    "_uuid": "8edeb224c969e631b07d8aeeab7d8839cfa32ab5"
   },
   "outputs": [],
   "source": [
    "from IPython.display import HTML\n",
    "HTML(\"\"\"\n",
    "<ol>\n",
    "<li>Scatter plots and hex plots work best with a mixture of ordinal categorical and interval data.</li>\n",
    "<br/>\n",
    "<li>Nominal categorical data makes sense in a stacked bar chart, but not in a bivariate line chart.</li>\n",
    "<br/>\n",
    "<li>Interval data makes sense in a bivariate line chart, but not in a stacked bar chart.</li>\n",
    "<br/>\n",
    "<li>One way to fix this issue would be to sample the points. Another way to fix it would be to use a hex plot.</li>\n",
    "</ol>\n",
    "\"\"\")"
   ]
  },
  {
   "cell_type": "markdown",
   "metadata": {
    "_cell_guid": "a614ee1c-41cb-4338-9fd7-a06a8d9dc0be",
    "_uuid": "b98a4ae7804eee0a2adc625d17b72fd6f0e7d1ae"
   },
   "source": [
    "Next, let's replicate some plots. Recall the Pokemon dataset from earlier:"
   ]
  },
  {
   "cell_type": "code",
   "execution_count": null,
   "metadata": {
    "_cell_guid": "df5eca2b-aad2-4583-b3cd-48de4b6bb420",
    "_uuid": "423c0a457a6487d95b41785633fb2b00d7dc3cb9"
   },
   "outputs": [],
   "source": [
    "pokemon = pd.read_csv(\"../input/pokemon/Pokemon.csv\", index_col=0)\n",
    "pokemon.head()"
   ]
  },
  {
   "cell_type": "markdown",
   "metadata": {
    "_cell_guid": "c65672c7-18f9-4465-90cb-d17264422611",
    "_uuid": "740558330ba5fba187515204a87261cd4d227f8a"
   },
   "source": [
    "For the exercises that follow, try forking this notebook and replicating the plots that follow. To see the answers, hit the \"Input\" button below to un-hide the code."
   ]
  },
  {
   "cell_type": "code",
   "execution_count": null,
   "metadata": {
    "_cell_guid": "1fc74bae-d290-4f72-b481-78ead07a1c6f",
    "_kg_hide-input": true,
    "_uuid": "028798b2b4cee37374fb53f3c6e5b4658f2033b3"
   },
   "outputs": [],
   "source": [
    "pokemon.plot.scatter(x='Attack', y='Defense')"
   ]
  },
  {
   "cell_type": "code",
   "execution_count": null,
   "metadata": {
    "_cell_guid": "9b9b3aa5-a8ce-4717-bc6f-ad8ef09282e9",
    "_kg_hide-input": true,
    "_uuid": "4027dac93bcf3d77eb4e07c49c831be30aa9c0cf"
   },
   "outputs": [],
   "source": [
    "pokemon.plot.hexbin(x='Attack', y='Defense', gridsize=15)"
   ]
  },
  {
   "cell_type": "markdown",
   "metadata": {
    "_cell_guid": "cc3defbf-88c7-4744-94e2-1df1254ac325",
    "_uuid": "1c385e7a8dbb16903f2ce25eac123dcc34ee35b5"
   },
   "source": [
    "For thee next plot, use the following data:"
   ]
  },
  {
   "cell_type": "code",
   "execution_count": null,
   "metadata": {
    "_cell_guid": "fb61f746-3c6b-4461-b89d-c31f7414d9e8",
    "_uuid": "dc04a757fa939180bd36c340ba154a9d5bca9df1"
   },
   "outputs": [],
   "source": [
    "pokemon_stats_legendary = pokemon.groupby(['Legendary', 'Generation']).mean()[['Attack', 'Defense']]"
   ]
  },
  {
   "cell_type": "code",
   "execution_count": null,
   "metadata": {
    "_cell_guid": "0f91be2b-c180-4097-8648-af9f105ae93c",
    "_kg_hide-input": true,
    "_uuid": "c7f4927c36f617a15b56da12340c68d18a5daf35"
   },
   "outputs": [],
   "source": [
    "pokemon_stats_legendary.plot.bar(stacked=True)"
   ]
  },
  {
   "cell_type": "markdown",
   "metadata": {
    "_cell_guid": "e58893f2-a0a8-4ae1-a919-dce6ba47c39a",
    "_uuid": "7002d9f9c6b74c6c0d1ea352e126b22575e91483"
   },
   "source": [
    "For the next plot, use the following data:"
   ]
  },
  {
   "cell_type": "code",
   "execution_count": null,
   "metadata": {
    "_cell_guid": "ebb7cc3d-4b72-4564-a5df-64c15af2d49b",
    "_uuid": "4c929c49bd752d1b047c9776f3296306bf896fc7",
    "scrolled": true
   },
   "outputs": [],
   "source": [
    "pokemon_stats_by_generation = pokemon.groupby('Generation').mean()[['HP', 'Attack', 'Defense', 'Sp. Atk', 'Sp. Def', 'Speed']]"
   ]
  },
  {
   "cell_type": "code",
   "execution_count": null,
   "metadata": {
    "_cell_guid": "77a0098d-7fbd-440a-a736-1232cf469256",
    "_kg_hide-input": true,
    "_uuid": "406782d0963db63ca0d4b29cff8207256da62584"
   },
   "outputs": [],
   "source": [
    "pokemon_stats_by_generation.plot.line()"
   ]
  },
  {
   "cell_type": "markdown",
   "metadata": {
    "_cell_guid": "4974dc7f-17ee-45ef-8e77-cf14dc575da3",
    "_uuid": "73742ea40362bbe24bdf15d0303b3bc0a61501b5"
   },
   "source": [
    "## Conclusion\n",
    "\n",
    "In this section we introduced and explored some common bivariate plot types:\n",
    "\n",
    "* Scatter plots\n",
    "* Hex plots\n",
    "* Stacked bar charts and area charts\n",
    "* Bivariate line charts\n",
    "\n",
    "In the next section we will move on to exploring another plotting library, `seaborn`, which compliments `pandas` with many more advanced data visualization tools for you to use.\n",
    "\n",
    "[Click here to move on to the next section, \"Plotting with seaborn\"](https://www.kaggle.com/residentmario/plotting-with-seaborn/)."
   ]
  }
 ],
 "metadata": {
  "kernelspec": {
   "display_name": "Python 3",
   "language": "python",
   "name": "python3"
  },
  "language_info": {
   "codemirror_mode": {
    "name": "ipython",
    "version": 3
   },
   "file_extension": ".py",
   "mimetype": "text/x-python",
   "name": "python",
   "nbconvert_exporter": "python",
   "pygments_lexer": "ipython3",
   "version": "3.6.4"
  }
 },
 "nbformat": 4,
 "nbformat_minor": 1
}
