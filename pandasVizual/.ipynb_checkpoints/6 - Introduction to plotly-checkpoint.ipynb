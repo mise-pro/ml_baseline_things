{
 "cells": [
  {
   "cell_type": "markdown",
   "metadata": {
    "_cell_guid": "45a9ce14-2be5-429a-a154-58e176579f30",
    "_uuid": "1e25292032a2209244e69cd12a8b22fb887c95a1"
   },
   "source": [
    "<table>\n",
    "<tr>\n",
    "<td><img src=\"https://i.imgur.com/BqJgyzB.png\" width=\"350px\"/></td>\n",
    "<td><img src=\"https://i.imgur.com/ttYzMwD.png\" width=\"350px\"/></td>\n",
    "<td><img src=\"https://i.imgur.com/WLmzj41.png\" width=\"350px\"/></td>\n",
    "<td><img src=\"https://i.imgur.com/LjRTbCn.png\" width=\"350px\"/></td>\n",
    "</tr>\n",
    "<tr>\n",
    "<td style=\"font-weight:bold; font-size:16px;\">Scatter Plot</td>\n",
    "<td style=\"font-weight:bold; font-size:16px;\">Choropleth</td>\n",
    "<td style=\"font-weight:bold; font-size:16px;\">Heatmap</td>\n",
    "<td style=\"font-weight:bold; font-size:16px;\">Surface Plot</td>\n",
    "</tr>\n",
    "<tr>\n",
    "<td>go.Scatter()</td>\n",
    "<td>go.Choropleth()</td>\n",
    "<td>go.Heatmap()</td>\n",
    "<td>go.Surface()</td>\n",
    "</tr>\n",
    "<!--\n",
    "<tr>\n",
    "<td>Good for interval and some nominal categorical data.</td>\n",
    "<td>Good for interval and some nominal categorical data.</td>\n",
    "<td>Good for nominal and ordinal categorical data.</td>\n",
    "<td>Good for ordinal categorical and interval data.</td>\n",
    "</tr>\n",
    "-->\n",
    "</table>\n",
    "\n",
    "# Introduction to plotly\n",
    "\n",
    "So far in this tutorial we have been using `seaborn` and `pandas`, two mature libraries designed around `matplotlib`. These libraries all focus on building \"static\" visualizations: visualizations that have no moving parts. In other words, all of the plots we've built thus far could appear in a dead-tree journal article.\n",
    "\n",
    "The web unlocks a lot of possibilities when it comes to interactivity and animations. There are a number of plotting libraries available which try to provide these features.\n",
    "\n",
    "In this section we will examine `plotly`, an open-source plotting library that's one of the most popular of these libraries."
   ]
  },
  {
   "cell_type": "code",
   "execution_count": 4,
   "metadata": {
    "ExecuteTime": {
     "end_time": "2018-10-17T13:20:40.933657Z",
     "start_time": "2018-10-17T13:20:39.669219Z"
    },
    "_cell_guid": "9b8ad711-e38a-41e2-9fcb-b5d154769f90",
    "_uuid": "52420188fa124f59ced6540113f620cc3cd55afc"
   },
   "outputs": [
    {
     "data": {
      "text/html": [
       "<div>\n",
       "<style scoped>\n",
       "    .dataframe tbody tr th:only-of-type {\n",
       "        vertical-align: middle;\n",
       "    }\n",
       "\n",
       "    .dataframe tbody tr th {\n",
       "        vertical-align: top;\n",
       "    }\n",
       "\n",
       "    .dataframe thead th {\n",
       "        text-align: right;\n",
       "    }\n",
       "</style>\n",
       "<table border=\"1\" class=\"dataframe\">\n",
       "  <thead>\n",
       "    <tr style=\"text-align: right;\">\n",
       "      <th></th>\n",
       "      <th>country</th>\n",
       "      <th>description</th>\n",
       "      <th>designation</th>\n",
       "      <th>points</th>\n",
       "      <th>price</th>\n",
       "      <th>province</th>\n",
       "      <th>region_1</th>\n",
       "      <th>region_2</th>\n",
       "      <th>taster_name</th>\n",
       "      <th>taster_twitter_handle</th>\n",
       "      <th>title</th>\n",
       "      <th>variety</th>\n",
       "      <th>winery</th>\n",
       "    </tr>\n",
       "  </thead>\n",
       "  <tbody>\n",
       "    <tr>\n",
       "      <th>0</th>\n",
       "      <td>Italy</td>\n",
       "      <td>Aromas include tropical fruit, broom, brimston...</td>\n",
       "      <td>Vulkà Bianco</td>\n",
       "      <td>87</td>\n",
       "      <td>NaN</td>\n",
       "      <td>Sicily &amp; Sardinia</td>\n",
       "      <td>Etna</td>\n",
       "      <td>NaN</td>\n",
       "      <td>Kerin O’Keefe</td>\n",
       "      <td>@kerinokeefe</td>\n",
       "      <td>Nicosia 2013 Vulkà Bianco  (Etna)</td>\n",
       "      <td>White Blend</td>\n",
       "      <td>Nicosia</td>\n",
       "    </tr>\n",
       "    <tr>\n",
       "      <th>1</th>\n",
       "      <td>Portugal</td>\n",
       "      <td>This is ripe and fruity, a wine that is smooth...</td>\n",
       "      <td>Avidagos</td>\n",
       "      <td>87</td>\n",
       "      <td>15.0</td>\n",
       "      <td>Douro</td>\n",
       "      <td>NaN</td>\n",
       "      <td>NaN</td>\n",
       "      <td>Roger Voss</td>\n",
       "      <td>@vossroger</td>\n",
       "      <td>Quinta dos Avidagos 2011 Avidagos Red (Douro)</td>\n",
       "      <td>Portuguese Red</td>\n",
       "      <td>Quinta dos Avidagos</td>\n",
       "    </tr>\n",
       "    <tr>\n",
       "      <th>2</th>\n",
       "      <td>US</td>\n",
       "      <td>Tart and snappy, the flavors of lime flesh and...</td>\n",
       "      <td>NaN</td>\n",
       "      <td>87</td>\n",
       "      <td>14.0</td>\n",
       "      <td>Oregon</td>\n",
       "      <td>Willamette Valley</td>\n",
       "      <td>Willamette Valley</td>\n",
       "      <td>Paul Gregutt</td>\n",
       "      <td>@paulgwine</td>\n",
       "      <td>Rainstorm 2013 Pinot Gris (Willamette Valley)</td>\n",
       "      <td>Pinot Gris</td>\n",
       "      <td>Rainstorm</td>\n",
       "    </tr>\n",
       "    <tr>\n",
       "      <th>3</th>\n",
       "      <td>US</td>\n",
       "      <td>Pineapple rind, lemon pith and orange blossom ...</td>\n",
       "      <td>Reserve Late Harvest</td>\n",
       "      <td>87</td>\n",
       "      <td>13.0</td>\n",
       "      <td>Michigan</td>\n",
       "      <td>Lake Michigan Shore</td>\n",
       "      <td>NaN</td>\n",
       "      <td>Alexander Peartree</td>\n",
       "      <td>NaN</td>\n",
       "      <td>St. Julian 2013 Reserve Late Harvest Riesling ...</td>\n",
       "      <td>Riesling</td>\n",
       "      <td>St. Julian</td>\n",
       "    </tr>\n",
       "    <tr>\n",
       "      <th>4</th>\n",
       "      <td>US</td>\n",
       "      <td>Much like the regular bottling from 2012, this...</td>\n",
       "      <td>Vintner's Reserve Wild Child Block</td>\n",
       "      <td>87</td>\n",
       "      <td>65.0</td>\n",
       "      <td>Oregon</td>\n",
       "      <td>Willamette Valley</td>\n",
       "      <td>Willamette Valley</td>\n",
       "      <td>Paul Gregutt</td>\n",
       "      <td>@paulgwine</td>\n",
       "      <td>Sweet Cheeks 2012 Vintner's Reserve Wild Child...</td>\n",
       "      <td>Pinot Noir</td>\n",
       "      <td>Sweet Cheeks</td>\n",
       "    </tr>\n",
       "  </tbody>\n",
       "</table>\n",
       "</div>"
      ],
      "text/plain": [
       "    country                                        description  \\\n",
       "0     Italy  Aromas include tropical fruit, broom, brimston...   \n",
       "1  Portugal  This is ripe and fruity, a wine that is smooth...   \n",
       "2        US  Tart and snappy, the flavors of lime flesh and...   \n",
       "3        US  Pineapple rind, lemon pith and orange blossom ...   \n",
       "4        US  Much like the regular bottling from 2012, this...   \n",
       "\n",
       "                          designation  points  price           province  \\\n",
       "0                        Vulkà Bianco      87    NaN  Sicily & Sardinia   \n",
       "1                            Avidagos      87   15.0              Douro   \n",
       "2                                 NaN      87   14.0             Oregon   \n",
       "3                Reserve Late Harvest      87   13.0           Michigan   \n",
       "4  Vintner's Reserve Wild Child Block      87   65.0             Oregon   \n",
       "\n",
       "              region_1           region_2         taster_name  \\\n",
       "0                 Etna                NaN       Kerin O’Keefe   \n",
       "1                  NaN                NaN          Roger Voss   \n",
       "2    Willamette Valley  Willamette Valley        Paul Gregutt   \n",
       "3  Lake Michigan Shore                NaN  Alexander Peartree   \n",
       "4    Willamette Valley  Willamette Valley        Paul Gregutt   \n",
       "\n",
       "  taster_twitter_handle                                              title  \\\n",
       "0          @kerinokeefe                  Nicosia 2013 Vulkà Bianco  (Etna)   \n",
       "1            @vossroger      Quinta dos Avidagos 2011 Avidagos Red (Douro)   \n",
       "2           @paulgwine       Rainstorm 2013 Pinot Gris (Willamette Valley)   \n",
       "3                   NaN  St. Julian 2013 Reserve Late Harvest Riesling ...   \n",
       "4           @paulgwine   Sweet Cheeks 2012 Vintner's Reserve Wild Child...   \n",
       "\n",
       "          variety               winery  \n",
       "0     White Blend              Nicosia  \n",
       "1  Portuguese Red  Quinta dos Avidagos  \n",
       "2      Pinot Gris            Rainstorm  \n",
       "3        Riesling           St. Julian  \n",
       "4      Pinot Noir         Sweet Cheeks  "
      ]
     },
     "execution_count": 4,
     "metadata": {},
     "output_type": "execute_result"
    }
   ],
   "source": [
    "import pandas as pd\n",
    "%matplotlib inline\n",
    "reviews = pd.read_csv(\"winemag-data-130k-v2.csv\", index_col=0)\n",
    "reviews.head()"
   ]
  },
  {
   "cell_type": "markdown",
   "metadata": {
    "_cell_guid": "8d46d7cb-0988-413e-b902-a99d5a015839",
    "_uuid": "b070e734a978e127817c74ca4adca8405f3f3bfb"
   },
   "source": [
    "`plotly` provides both online and offline modes. The latter injects the `plotly` source code directly into the notebook; the former does not. I recommend using `plotly` in offline mode the vast majority of the time, and it's the only mode that works on Kaggle (which disables network access in Python)."
   ]
  },
  {
   "cell_type": "code",
   "execution_count": 5,
   "metadata": {
    "ExecuteTime": {
     "end_time": "2018-10-17T13:23:22.718762Z",
     "start_time": "2018-10-17T13:23:22.705753Z"
    },
    "_cell_guid": "b42c08ea-dddd-4e98-a120-a4b6b01e74ac",
    "_uuid": "7624fa29aed94abded9596a8a4ba7d22fef685e8"
   },
   "outputs": [
    {
     "ename": "ModuleNotFoundError",
     "evalue": "No module named 'plotly'",
     "output_type": "error",
     "traceback": [
      "\u001b[1;31m---------------------------------------------------------------------------\u001b[0m",
      "\u001b[1;31mModuleNotFoundError\u001b[0m                       Traceback (most recent call last)",
      "\u001b[1;32m<ipython-input-5-8814faa33395>\u001b[0m in \u001b[0;36m<module>\u001b[1;34m()\u001b[0m\n\u001b[1;32m----> 1\u001b[1;33m \u001b[1;32mfrom\u001b[0m \u001b[0mplotly\u001b[0m\u001b[1;33m.\u001b[0m\u001b[0moffline\u001b[0m \u001b[1;32mimport\u001b[0m \u001b[0minit_notebook_mode\u001b[0m\u001b[1;33m,\u001b[0m \u001b[0miplot\u001b[0m\u001b[1;33m\u001b[0m\u001b[0m\n\u001b[0m\u001b[0;32m      2\u001b[0m \u001b[0minit_notebook_mode\u001b[0m\u001b[1;33m(\u001b[0m\u001b[0mconnected\u001b[0m\u001b[1;33m=\u001b[0m\u001b[1;32mTrue\u001b[0m\u001b[1;33m)\u001b[0m\u001b[1;33m\u001b[0m\u001b[0m\n",
      "\u001b[1;31mModuleNotFoundError\u001b[0m: No module named 'plotly'"
     ]
    }
   ],
   "source": [
    "from plotly.offline import init_notebook_mode, iplot\n",
    "init_notebook_mode(connected=True)"
   ]
  },
  {
   "cell_type": "code",
   "execution_count": null,
   "metadata": {
    "ExecuteTime": {
     "start_time": "2018-10-17T13:25:23.453Z"
    }
   },
   "outputs": [],
   "source": [
    "!pip install plotly"
   ]
  },
  {
   "cell_type": "markdown",
   "metadata": {
    "_cell_guid": "babfd3fb-e207-4d93-b4e9-e1500ea9cab6",
    "_uuid": "a474cedf0d5c0d600e6586c2471db001bc9d27bb"
   },
   "source": [
    "We'll start by creating a basic scatter plot."
   ]
  },
  {
   "cell_type": "code",
   "execution_count": null,
   "metadata": {
    "_cell_guid": "4468bc49-f470-469d-a09f-4234f6f73dee",
    "_uuid": "183c2193f5e1b9928b952a1dc80781748849d868",
    "collapsed": true
   },
   "outputs": [],
   "source": [
    "import plotly.graph_objs as go\n",
    "\n",
    "iplot([go.Scatter(x=reviews.head(1000)['points'], y=reviews.head(1000)['price'], mode='markers')])"
   ]
  },
  {
   "cell_type": "markdown",
   "metadata": {
    "_cell_guid": "d6442047-ad76-4607-9afa-3a52601b75e1",
    "_uuid": "74c8a5f7c73a4deb2d44f8f3984ca3882c43218b"
   },
   "source": [
    "This chart is fully interactive. We can use the toolbar on the top-right to perform various operations on the data: zooming and panning, for example. When we hover over a data point, we get a tooltip. We can even save the plot as a PNG image.\n",
    "\n",
    "This chart also demonstrates the *disadvantage* of this fancier plotting library. In order to keep performance reasonable, we had to limit ourselves to the first 1000 points in the dataset. While this was necessary anyway (to avoid too much overplotting) it's important to note that in general, interactive graphics are much, much more resource-intensive than static ones. It's easier to \"max out\" how many points of data you can show.\n",
    "\n",
    "Notice the \"shape\" of the `plotly` API. `iplot` takes a list of plot objects and composes them for you, plotting the combined end result. This makes it easy to stack plots.\n",
    "\n",
    "As another example, here's a KDE plot (what `plotly` refers to as a `Histogram2dContour`) *and* scatter plot of the same data."
   ]
  },
  {
   "cell_type": "code",
   "execution_count": null,
   "metadata": {
    "_cell_guid": "5b3d8e61-7dbd-4d02-a70d-11299c36bd81",
    "_uuid": "d956ba3cce86d5600d5f9fca77710ba4447bb670",
    "collapsed": true
   },
   "outputs": [],
   "source": [
    "iplot([go.Histogram2dContour(x=reviews.head(500)['points'], \n",
    "                             y=reviews.head(500)['price'], \n",
    "                             contours=go.Contours(coloring='heatmap')),\n",
    "       go.Scatter(x=reviews.head(1000)['points'], y=reviews.head(1000)['price'], mode='markers')])"
   ]
  },
  {
   "cell_type": "markdown",
   "metadata": {
    "_cell_guid": "559c8fae-fa9a-4a02-b1f9-2c86c21b6dcf",
    "_uuid": "668e3e8d939d6142f26cbf07bedaaf0c86f4f403"
   },
   "source": [
    "`plotly` exposes several different APIs, ranging in complexity from low-level to high-level. `iplot` is the highest-level API, and hence, the most convenient one for general-purpose use.\n",
    "\n",
    "Personally I've always found the `plotly` `Surface` its most impressive feature (albeit one of the hardest to get right):"
   ]
  },
  {
   "cell_type": "code",
   "execution_count": null,
   "metadata": {
    "_cell_guid": "62c744ea-e7e6-46d1-9791-aa25a601c6fc",
    "_uuid": "78420651a1a15690b6862e2b7d12e8c18d11dbe2",
    "collapsed": true
   },
   "outputs": [],
   "source": [
    "df = reviews.assign(n=0).groupby(['points', 'price'])['n'].count().reset_index()\n",
    "df = df[df[\"price\"] < 100]\n",
    "v = df.pivot(index='price', columns='points', values='n').fillna(0).values.tolist()"
   ]
  },
  {
   "cell_type": "code",
   "execution_count": null,
   "metadata": {
    "_cell_guid": "6b24990d-bd0f-404f-b1d1-77c381e3d377",
    "_uuid": "2007916bc2650c5078ebfcb8de324bf8db6c5885",
    "collapsed": true
   },
   "outputs": [],
   "source": [
    "iplot([go.Surface(z=v)])"
   ]
  },
  {
   "cell_type": "markdown",
   "metadata": {
    "_cell_guid": "d5a9c4e5-62c2-44d3-b7a7-6a8723860dbd",
    "_uuid": "308706e1c9ba606117425ef4bf40cfdf770cd8d2"
   },
   "source": [
    "On Kaggle, `plotly` is often used to make **choropleths**. Choropleths are a type of map, where all of the entities (countries, US states, etc.) are colored according to some variable in the dataset. `plotly` is one of the most convenient plotting libraries available for making them."
   ]
  },
  {
   "cell_type": "code",
   "execution_count": null,
   "metadata": {
    "_cell_guid": "78790672-3e3d-4ac5-938e-6a8ed32f0ae5",
    "_uuid": "ab325548cebec6fb6ab7191d7443356436eee65d",
    "collapsed": true
   },
   "outputs": [],
   "source": [
    "df = reviews['country'].replace(\"US\", \"United States\").value_counts()\n",
    "\n",
    "iplot([go.Choropleth(\n",
    "    locationmode='country names',\n",
    "    locations=df.index.values,\n",
    "    text=df.index,\n",
    "    z=df.values\n",
    ")])"
   ]
  },
  {
   "cell_type": "markdown",
   "metadata": {
    "_cell_guid": "43daaad2-16dd-42d2-bce3-b0f83c73cac1",
    "_uuid": "729c43fb2df9210a46d84175c85576d23eba89fd"
   },
   "source": [
    "Overall, `plotly` is a powerful, richly interactive data visualization library. It allows us to generate plots with more \"pizazz\" than standard `pandas` or `seaborn` output.\n",
    "\n",
    "The tradeoff is that while `pandas` and `seaborn` are well-established, `plotly` is still new. As a result, and in particular, `plotly` documentation is much harder to and find and interpret; the office documentation on the `plotly` website uses a mix of different features for plotting, which makes it harder to use than it has to be.\n",
    "\n",
    "Additionally, it's important to recognize when interactivity is useful, and when it is not. The most effective plots do not need to use hovers or tooltips to get their work done. As a result `plotly`, though extremely attractive, is rarely more *useful* than an equivalent plot in `pandas` or `seaborn`."
   ]
  },
  {
   "cell_type": "markdown",
   "metadata": {
    "_cell_guid": "c68ded3f-5465-4751-ae7a-2d2283673cd3",
    "_uuid": "7813bc4745629d9377e41c20ebbaee66842617ab"
   },
   "source": [
    "# Exercises\n",
    "\n",
    "For the following exercise, try forking and running this notebook, and then reproducing the chart that follows. Hint: `Attack` on the x-axis, `Defense` on the y-axis."
   ]
  },
  {
   "cell_type": "code",
   "execution_count": null,
   "metadata": {
    "_cell_guid": "9da906bb-570a-4310-b588-ddf70a91b455",
    "_uuid": "5c635fc13791655c6ee238db817dcb2e7484ce06",
    "collapsed": true
   },
   "outputs": [],
   "source": [
    "import pandas as pd\n",
    "pokemon = pd.read_csv(\"../input/pokemon/Pokemon.csv\")\n",
    "pokemon.head(3)"
   ]
  },
  {
   "cell_type": "code",
   "execution_count": null,
   "metadata": {
    "_cell_guid": "4c9bf0c6-96f2-4310-b597-72d8b86a9748",
    "_kg_hide-input": true,
    "_uuid": "f9f118fd4eb654d362e648cd0746cd9afd1fc3e8",
    "collapsed": true
   },
   "outputs": [],
   "source": [
    "import plotly.graph_objs as go\n",
    "\n",
    "iplot([go.Scatter(x=pokemon['Attack'], y=pokemon['Defense'], mode='markers')])"
   ]
  },
  {
   "cell_type": "markdown",
   "metadata": {
    "_cell_guid": "66d2b4c0-bb54-4a9b-afd7-8df979071ddc",
    "_uuid": "0fe0f07097660ca03d24f10177a94084e34a15a4"
   },
   "source": [
    "# Conclusion\n",
    "\n",
    "In this section we looked at `plotly`, an interactive plotting library that produces very attractive-looking charts. It is one of a number of alternatives to `matplotlib`-based tools that provide first-class interactivity (`bokeh` is another one worth mentioning).\n",
    "\n",
    "In the next section we'll look at another plotting library, `plotnine`, which is designed around a peculiar but powerful idea called the **grammar of graphics**.\n",
    "\n",
    "[Click here to go the next section, \"Grammar of graphics with plotnine\"](https://www.kaggle.com/residentmario/grammer-of-graphics-with-plotnine-optional)."
   ]
  }
 ],
 "metadata": {
  "kernelspec": {
   "display_name": "Python 3",
   "language": "python",
   "name": "python3"
  },
  "language_info": {
   "codemirror_mode": {
    "name": "ipython",
    "version": 3
   },
   "file_extension": ".py",
   "mimetype": "text/x-python",
   "name": "python",
   "nbconvert_exporter": "python",
   "pygments_lexer": "ipython3",
   "version": "3.6.4"
  }
 },
 "nbformat": 4,
 "nbformat_minor": 1
}
