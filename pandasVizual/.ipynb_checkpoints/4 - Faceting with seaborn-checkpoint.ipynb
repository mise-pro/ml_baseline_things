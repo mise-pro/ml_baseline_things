{
 "cells": [
  {
   "cell_type": "markdown",
   "metadata": {
    "_cell_guid": "c4feb139-4c1b-482d-ae3a-5071bf25e92b",
    "_uuid": "8350b66fe85e6eb62851374159d2515637705078"
   },
   "source": [
    "# Faceting with seaborn\n",
    "\n",
    "<table>\n",
    "<tr>\n",
    "<td><img src=\"https://i.imgur.com/wU9M9gu.png\" width=\"350px\"/></td>\n",
    "<td><img src=\"https://i.imgur.com/85d2nIj.png\" width=\"350px\"/></td>\n",
    "</tr>\n",
    "<tr>\n",
    "<td style=\"font-weight:bold; font-size:16px;\">Facet Grid</td>\n",
    "<td style=\"font-weight:bold; font-size:16px;\">Pair Plot</td>\n",
    "</tr>\n",
    "<tr>\n",
    "<td>sns.FacetGrid()</td>\n",
    "<td>sns.pairplot()</td>\n",
    "</tr>\n",
    "<tr>\n",
    "<td>Good for data with at least two categorical variables.</td>\n",
    "<td>Good for exploring most kinds of data.</td>\n",
    "</tr>\n",
    "</table>\n",
    "\n",
    "So far in this tutorial we've been plotting data in one (univariate) or two (bivariate) dimensions, and we've learned how plotting in `seaborn` works. In this section we'll dive deeper into `seaborn` by exploring **faceting**.\n",
    "\n",
    "Faceting is the act of breaking data variables up across multiple subplots, and combining those subplots into a single figure. So instead of one bar chart, we might have, say, four, arranged together in a grid.\n",
    "\n",
    "In this notebook we'll put this technique in action, and see why it's so useful."
   ]
  },
  {
   "cell_type": "code",
   "execution_count": 2,
   "metadata": {
    "ExecuteTime": {
     "end_time": "2018-10-16T13:02:08.966465Z",
     "start_time": "2018-10-16T13:02:06.986774Z"
    },
    "_cell_guid": "08304e30-5d2c-4aef-81e0-848362ef27b6",
    "_kg_hide-input": true,
    "_uuid": "4c49de85a3c12a8537e6e95cb935ef5037408b30"
   },
   "outputs": [
    {
     "name": "stderr",
     "output_type": "stream",
     "text": [
      "C:\\ProgramData\\Anaconda3\\lib\\site-packages\\IPython\\core\\interactiveshell.py:2728: DtypeWarning: Columns (23,35) have mixed types. Specify dtype option on import or set low_memory=False.\n",
      "  interactivity=interactivity, compiler=compiler, result=result)\n"
     ]
    }
   ],
   "source": [
    "import pandas as pd\n",
    "%matplotlib inline\n",
    "pd.set_option('max_columns', None)\n",
    "df = pd.read_csv(\"CompleteDataset.csv\", index_col=0)\n",
    "\n",
    "import re\n",
    "import numpy as np\n",
    "\n",
    "footballers = df.copy()\n",
    "footballers['Unit'] = df['Value'].str[-1]\n",
    "footballers['Value (M)'] = np.where(footballers['Unit'] == '0', 0, \n",
    "                                    footballers['Value'].str[1:-1].replace(r'[a-zA-Z]',''))\n",
    "footballers['Value (M)'] = footballers['Value (M)'].astype(float)\n",
    "footballers['Value (M)'] = np.where(footballers['Unit'] == 'M', \n",
    "                                    footballers['Value (M)'], \n",
    "                                    footballers['Value (M)']/1000)\n",
    "footballers = footballers.assign(Value=footballers['Value (M)'],\n",
    "                                 Position=footballers['Preferred Positions'].str.split().str[0])"
   ]
  },
  {
   "cell_type": "markdown",
   "metadata": {
    "_cell_guid": "d1daf1f0-50a1-453f-bc1b-db1502f4be30",
    "_uuid": "61a2cd6bd24d91e04210692e6688fbd87629d3dc"
   },
   "source": [
    "(Note: the first code cell above contains some data pre-processing. This is extraneous, and so I've hidden it by default.)"
   ]
  },
  {
   "cell_type": "code",
   "execution_count": null,
   "metadata": {
    "_cell_guid": "6311e1fc-be4e-4204-8ba4-5fc2c7747ad5",
    "_uuid": "11945927b88db393c4ed7f0b56d32c996293d5eb",
    "collapsed": true
   },
   "outputs": [],
   "source": [
    "footballers.head()"
   ]
  },
  {
   "cell_type": "code",
   "execution_count": null,
   "metadata": {
    "_cell_guid": "71089741-490d-4789-8202-cad7a16f8810",
    "_uuid": "e8d1995fd738d77b12b8bf11270a871f5a8d3802",
    "collapsed": true
   },
   "outputs": [],
   "source": [
    "import seaborn as sns"
   ]
  },
  {
   "cell_type": "markdown",
   "metadata": {
    "_cell_guid": "f3fa6cdf-5017-4de2-8b36-0746599feb29",
    "_uuid": "6cb3450efeb35aee28d2503ff6a2faef0f5ddcff"
   },
   "source": [
    "## The FacetGrid\n",
    "\n",
    "The core `seaborn` utility for faceting is the `FacetGrid`. A `FacetGrid` is an object which stores some information on how you want to break up your data visualization.\n",
    "\n",
    "For example, suppose that we're interested in (as in the previous notebook) comparing strikers and goalkeepers in some way. To do this, we can create a `FacetGrid` with our data, telling it that we want to break the `Position` variable down by `col` (column).\n",
    "\n",
    "Since we're zeroing in on just two positions in particular, this results in a pair of grids ready for us to \"do\" something with them:"
   ]
  },
  {
   "cell_type": "code",
   "execution_count": null,
   "metadata": {
    "_cell_guid": "392a9bc1-b6a1-4e11-89bb-4fb73518ccd4",
    "_uuid": "8613c63e7890aa4bf96488150bed461797b335f9",
    "collapsed": true
   },
   "outputs": [],
   "source": [
    "df = footballers[footballers['Position'].isin(['ST', 'GK'])]\n",
    "g = sns.FacetGrid(df, col=\"Position\")"
   ]
  },
  {
   "cell_type": "markdown",
   "metadata": {
    "_cell_guid": "c5310010-2896-46ed-84bb-3f7749aef2ee",
    "_uuid": "bb25457e931ea2e35771bbd60df3c14c7a438af5"
   },
   "source": [
    "From there, we use the `map` object method to plot the data into the laid-out grid."
   ]
  },
  {
   "cell_type": "code",
   "execution_count": null,
   "metadata": {
    "_cell_guid": "e4d28a53-13c0-42ab-baa8-c6c0da87579c",
    "_uuid": "f716f6e51dc4df10e02d0c4fd6469974faacc2c3",
    "collapsed": true
   },
   "outputs": [],
   "source": [
    "df = footballers[footballers['Position'].isin(['ST', 'GK'])]\n",
    "g = sns.FacetGrid(df, col=\"Position\")\n",
    "g.map(sns.kdeplot, \"Overall\")"
   ]
  },
  {
   "cell_type": "markdown",
   "metadata": {
    "_cell_guid": "d1215f6d-f67a-441b-b1d0-a51666ca7802",
    "_uuid": "fd160a77a9c59bbf6366a84873f9e92dfb23f738"
   },
   "source": [
    "Passing a method into another method like this may take some getting used to, if this is your first time seeing this being done. But once you get used to it, `FacetGrid` is very easy to use.\n",
    "\n",
    "By using an object to gather \"design criteria\", `seaborn` does an effective job seamlessly marrying the data *representation* to the data *values*, sparing us the need to lay the plot out ourselves.\n",
    "\n",
    "We're probably interested in more than just goalkeepers and strikers, however. But if we squeezed all of the possible game positions into one row, the resulting plots would be tiny. `FacetGrid` comes equipped with a `col_wrap` parameter for dealing with this case exactly."
   ]
  },
  {
   "cell_type": "code",
   "execution_count": null,
   "metadata": {
    "_cell_guid": "8a66ed6a-c9d3-4e32-918d-d89cf0cb8314",
    "_uuid": "c3148b49cbceee7e91af72695bd70cf71a3051c5",
    "collapsed": true
   },
   "outputs": [],
   "source": [
    "df = footballers\n",
    "\n",
    "g = sns.FacetGrid(df, col=\"Position\", col_wrap=6)\n",
    "g.map(sns.kdeplot, \"Overall\")"
   ]
  },
  {
   "cell_type": "markdown",
   "metadata": {
    "_cell_guid": "51235edf-354f-4bbe-b3b2-3f61bb9178bd",
    "_uuid": "d9183eda2c8efac2cfc1126f44fc2ecb96fcec9e"
   },
   "source": [
    "So far we've been dealing exclusively with one `col` (column) of data. The \"grid\" in `FacetGrid`, however, refers to the ability to lay data out by row *and* column.\n",
    "\n",
    "For example, suppose we're interested in comparing the talent distribution for (goalkeepers and strikers specifically, to keep things succinct) across rival clubs Real Madrid, Atlético Madrid, and FC Barcelona.\n",
    "\n",
    "As the plot below demonstrates, we can achieve this by passing `row=Position` and `col=Club` parameters into the plot."
   ]
  },
  {
   "cell_type": "code",
   "execution_count": null,
   "metadata": {
    "_cell_guid": "b61a850d-a3d5-40fb-9ff7-e209defdfa37",
    "_uuid": "c5f63e588884b423f8f1837de4bd0e292e5fb76b",
    "collapsed": true,
    "scrolled": false
   },
   "outputs": [],
   "source": [
    "df = footballers[footballers['Position'].isin(['ST', 'GK'])]\n",
    "df = df[df['Club'].isin(['Real Madrid CF', 'FC Barcelona', 'Atlético Madrid'])]\n",
    "\n",
    "g = sns.FacetGrid(df, row=\"Position\", col=\"Club\")\n",
    "g.map(sns.violinplot, \"Overall\")"
   ]
  },
  {
   "cell_type": "markdown",
   "metadata": {
    "_cell_guid": "5a256783-8ccb-40b3-9e9b-ab8445e61c2e",
    "_uuid": "0e3d38cf96101de0a71586139a215b36673575d2"
   },
   "source": [
    "`FacetGrid` orders the subplots effectively arbitrarily by default. To specify your own ordering explicitly, pass the appropriate argument to the `row_order` and `col_order` parameters."
   ]
  },
  {
   "cell_type": "code",
   "execution_count": null,
   "metadata": {
    "_cell_guid": "3a8b7deb-e6a3-4295-9ae6-155b76e6a71d",
    "_uuid": "367d53b2defa35d139ec39404a729a8e874994f5",
    "collapsed": true
   },
   "outputs": [],
   "source": [
    "df = footballers[footballers['Position'].isin(['ST', 'GK'])]\n",
    "df = df[df['Club'].isin(['Real Madrid CF', 'FC Barcelona', 'Atlético Madrid'])]\n",
    "\n",
    "g = sns.FacetGrid(df, row=\"Position\", col=\"Club\", \n",
    "                  row_order=['GK', 'ST'],\n",
    "                  col_order=['Atlético Madrid', 'FC Barcelona', 'Real Madrid CF'])\n",
    "g.map(sns.violinplot, \"Overall\")"
   ]
  },
  {
   "cell_type": "markdown",
   "metadata": {
    "_cell_guid": "a8145771-4d79-49eb-83a0-1c06bb692d66",
    "_uuid": "9566bcc07d9d79a160b64655e953e7953a6117f0"
   },
   "source": [
    "`FacetGrid` comes equipped with various lesser parameters as well, but these are the most important ones."
   ]
  },
  {
   "cell_type": "markdown",
   "metadata": {
    "_cell_guid": "aefa64ff-fc18-457b-bd39-b54b85e52247",
    "_uuid": "97e249b1e2d8b08a0291b82dbef50334f64eebf7"
   },
   "source": [
    "## Why facet?\n",
    "\n",
    "In a nutshell, faceting is the easiest way to make your data visualization multivariate.\n",
    "\n",
    "Faceting is multivariate because after laying out one (categorical) variable in the rows and another (categorical) variable in the columns, we are already at two variables accounted for before regular plotting has even begun.\n",
    "\n",
    "And faceting is easy because transitioning from plotting a `kdeplot` to gridding them out, as here, is very simple. It doesn't require learning any new visualization techniques. The limitations are the same ones that held for the plots you use inside.\n",
    "\n",
    "Faceting does have some important limitations however. It can only be used to break data out across singular or paired categorical variables with very low numeracy&mdash;any more than five or so dimensions in the grid, and the plots become too small (or involve a lot of scrolling). Additionally it involves choosing (or letting Python) an order to plot in, but with nominal categorical variables that choice is distractingly arbitrary.\n",
    "\n",
    "Nevertheless, faceting is an extremely useful and applicable tool to have in your toolbox."
   ]
  },
  {
   "cell_type": "markdown",
   "metadata": {
    "_cell_guid": "885165ab-1f3d-42c8-bfad-ff0450301248",
    "_uuid": "ab1ba195f45e42f3541c30d1b2a38f5426ebcd68"
   },
   "source": [
    "## Pairplot\n",
    "\n",
    "Now that we understand faceting, it's worth taking a quick once-over of the `seaborn` `pairplot` function.\n",
    "\n",
    "`pairplot` is a very useful and widely used `seaborn` method for faceting *variables* (as opposed to *variable values*). You pass it a `pandas` `DataFrame` in the right shape, and it returns you a gridded result of your variable values:"
   ]
  },
  {
   "cell_type": "code",
   "execution_count": null,
   "metadata": {
    "_cell_guid": "8fa02429-0617-4505-83fc-fe30500ccaa4",
    "_uuid": "242e83b28a0e68fa3de7ef097c0cb3da19642a90",
    "collapsed": true
   },
   "outputs": [],
   "source": [
    "sns.pairplot(footballers[['Overall', 'Potential', 'Value']])"
   ]
  },
  {
   "cell_type": "markdown",
   "metadata": {
    "_cell_guid": "1556d2fe-f157-414f-bf9b-e8adcd1780a1",
    "_uuid": "7af4ec258fccda10791fdf3e9c600019be5c8d96"
   },
   "source": [
    "By default `pairplot` will return scatter plots in the main entries and a histogram in the diagonal. `pairplot` is oftentimes the first thing that a data scientist will throw at their data, and it works fantastically well in that capacity, even if sometimes the scatter-and-histogram approach isn't quite appropriate, given the data types."
   ]
  },
  {
   "cell_type": "markdown",
   "metadata": {
    "_cell_guid": "2a760c7b-5444-4ceb-9c1b-9eaa98de8928",
    "_uuid": "c8455b174c0c88b98883477eade755f72ffecce0"
   },
   "source": [
    "# Examples\n",
    "\n",
    "As in previous notebooks, let's now test ourselves by answering some questions about the plots we've used in this section. Once you have your answers, click on \"Output\" button below to show the correct answers.\n",
    "\n",
    "1. Suppose that we create an `n` by `n` `FacetGrid`. How big can `n` get?\n",
    "2. What are the two things about faceting which make it appealing?\n",
    "3. When is `pairplot` most useful?"
   ]
  },
  {
   "cell_type": "code",
   "execution_count": null,
   "metadata": {
    "_cell_guid": "bb46446c-5ada-435e-a41f-6782a0fd85aa",
    "_kg_hide-input": true,
    "_kg_hide-output": true,
    "_uuid": "d11d6f1b3fdc36747d0095941328d3b73e9d727f",
    "collapsed": true
   },
   "outputs": [],
   "source": [
    "from IPython.display import HTML\n",
    "HTML(\"\"\"\n",
    "<ol>\n",
    "<li>You should try to keep your grid variables down to five or so. Otherwise the plots get too small.</li>\n",
    "<li>It's (1) a multivariate technique which (2) is very easy to use.</li>\n",
    "<li>Pair plots are most useful when just starting out with a dataset, because they help contextualize relationships within it.</li>\n",
    "</ol>\n",
    "\"\"\")"
   ]
  },
  {
   "cell_type": "markdown",
   "metadata": {
    "_cell_guid": "8c261c72-76e1-4ed9-8d50-a1bd01abc9b9",
    "_uuid": "f003304522d546bf533820ba5f895e42412cb09a"
   },
   "source": [
    "Next, try forking this kernel, and see if you can replicate the following plots. To see the answers, click the \"Input\" button to unhide the code and see the answers. Here's the dataset we've been working with:"
   ]
  },
  {
   "cell_type": "code",
   "execution_count": null,
   "metadata": {
    "_cell_guid": "00007691-9481-4093-a62f-2f570dc514ea",
    "_uuid": "6e4ad809d542cfcdc46ad1ca1986fc3d704f40bb",
    "collapsed": true
   },
   "outputs": [],
   "source": [
    "import pandas as pd\n",
    "import seaborn as sns\n",
    "\n",
    "pokemon = pd.read_csv(\"../input/pokemon/Pokemon.csv\", index_col=0)\n",
    "pokemon.head(3)"
   ]
  },
  {
   "cell_type": "code",
   "execution_count": null,
   "metadata": {
    "_cell_guid": "64840b1a-c6a1-4343-91ac-d067da667879",
    "_kg_hide-input": true,
    "_uuid": "d7794546baa9b1b18e60a54a253bfdbcef2b96ad",
    "collapsed": true
   },
   "outputs": [],
   "source": [
    "g = sns.FacetGrid(pokemon, row=\"Legendary\")\n",
    "g.map(sns.kdeplot, \"Attack\")"
   ]
  },
  {
   "cell_type": "code",
   "execution_count": null,
   "metadata": {
    "_cell_guid": "2f8ccd14-9b13-458d-afa7-5dd0dc5f290b",
    "_kg_hide-input": true,
    "_uuid": "b1bd39ef62d0c93614fc68b6e2f1b3a7d227500c",
    "collapsed": true
   },
   "outputs": [],
   "source": [
    "g = sns.FacetGrid(pokemon, col=\"Legendary\", row=\"Generation\")\n",
    "g.map(sns.kdeplot, \"Attack\")"
   ]
  },
  {
   "cell_type": "code",
   "execution_count": null,
   "metadata": {
    "_cell_guid": "547d0cd4-32db-4b84-9d33-8d5da37e7c54",
    "_kg_hide-input": true,
    "_uuid": "2cdfd8c86ff01c4b07ce60d03a7d2e780bdc127c",
    "collapsed": true
   },
   "outputs": [],
   "source": [
    "sns.pairplot(pokemon[['HP', 'Attack', 'Defense']])"
   ]
  },
  {
   "cell_type": "markdown",
   "metadata": {
    "_cell_guid": "d0712a25-c94d-4962-bb81-8e97ef07e44a",
    "_uuid": "f7290723176ef083fed9b50f622feb1d3f1a3077"
   },
   "source": [
    "## Conclusion\n",
    "\n",
    "In this notebook we explored `FacetGrid` and `pairplot`, two `seaborn` facilities for faceting your data, and discussed why faceting is so useful in a broad range of cases.\n",
    "\n",
    "This technique is our first dip into multivariate plotting, an idea that we will explore in more depth with two other approaches in the next section.\n",
    "\n",
    "[Click here to go to the next section, \"Multivariate plotting\"](https://www.kaggle.com/residentmario/multivariate-plotting)."
   ]
  }
 ],
 "metadata": {
  "kernelspec": {
   "display_name": "Python 3",
   "language": "python",
   "name": "python3"
  }
 },
 "nbformat": 4,
 "nbformat_minor": 1
}
